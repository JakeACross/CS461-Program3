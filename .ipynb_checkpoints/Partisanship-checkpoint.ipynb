{
 "cells": [
  {
   "cell_type": "code",
   "execution_count": 1,
   "id": "6b3cbeae",
   "metadata": {},
   "outputs": [],
   "source": [
    "import re\n",
    "import pandas as pd\n",
    "import numpy as np\n",
    "\n",
    "from tensorflow import keras\n",
    "from keras.models import Sequential\n",
    "from tensorflow.keras.layers import Dense, Dropout\n",
    "\n",
    "from sklearn import preprocessing\n",
    "from sklearn.model_selection import train_test_split"
   ]
  },
  {
   "cell_type": "code",
   "execution_count": null,
   "id": "68368ba5",
   "metadata": {},
   "outputs": [],
   "source": [
    "# Load dataset\n",
    "data = pd.read_csv('../preprocessed_congressional_tweet.csv')\n",
    "\n",
    "data.head(10)"
   ]
  },
  {
   "cell_type": "code",
   "execution_count": null,
   "id": "d3b150c6",
   "metadata": {},
   "outputs": [],
   "source": [
    "from sklearn.preprocessing import LabelEncoder\n",
    "from tensorflow.keras.utils import to_categorical\n",
    "\n",
    "# Encode labels from string (neg or pos) to integer (0 or 1)\n",
    "labelencoder = LabelEncoder()\n",
    "integer_encoded = labelencoder.fit_transform(data['party_id'])\n",
    "\n",
    "# One-hot encoding\n",
    "Y = to_categorical(integer_encoded) "
   ]
  },
  {
   "cell_type": "code",
   "execution_count": null,
   "id": "9eb2f89b",
   "metadata": {},
   "outputs": [],
   "source": [
    "Y[0]"
   ]
  },
  {
   "cell_type": "code",
   "execution_count": null,
   "id": "0d298d17",
   "metadata": {},
   "outputs": [],
   "source": [
    "data_array = data.values\n",
    "\n",
    "X_train, X_test, Y_train, Y_test = train_test_split(data_array[:,:-1], Y, test_size=0.25, random_state=42)\n",
    "\n",
    "X_train = X_train.astype('float32')\n",
    "X_test = X_test.astype('float32')\n",
    "\n",
    "print(X_train.shape)"
   ]
  },
  {
   "cell_type": "code",
   "execution_count": null,
   "id": "b489dbdb",
   "metadata": {},
   "outputs": [],
   "source": [
    "model = Sequential()\n",
    "model.add(Dense(512, activation='tanh', input_dim=X_train.shape[1]))\n",
    "model.add(Dropout(0.5))\n",
    "model.add(Dense(256, activation='tanh'))\n",
    "model.add(Dropout(0.25))\n",
    "model.add(Dense(2, activation='softmax'))\n",
    "model.compile(optimizer='rmsprop', loss='categorical_crossentropy', metrics=['accuracy'])\n",
    "model.summary()"
   ]
  },
  {
   "cell_type": "code",
   "execution_count": null,
   "id": "0495227b",
   "metadata": {},
   "outputs": [],
   "source": [
    "# Import callbacks from keras\n",
    "from keras.callbacks import ModelCheckpoint, ReduceLROnPlateau, EarlyStopping\n",
    "\n",
    "file_path = '/tmp/checkpoint'  # for ModelCheckpoint callback that needs file path to call\n",
    "\n",
    "# Initialize the callbacks and add them to a list\n",
    "checkpoint = ModelCheckpoint(file_path, monitor='val_accuracy', verbose=1, save_best_only=True, mode='max')\n",
    "reduce_on_plateau = ReduceLROnPlateau(monitor=\"loss\", mode=\"min\", factor=0.1, patience=5, verbose=1)\n",
    "es = EarlyStopping(monitor='val_loss', patience=3, restore_best_weights=True)\n",
    "\n",
    "callbacks_list = [checkpoint, reduce_on_plateau, es]"
   ]
  },
  {
   "cell_type": "code",
   "execution_count": null,
   "id": "db776753",
   "metadata": {
    "scrolled": false
   },
   "outputs": [],
   "source": [
    "history = model.fit(X_train, Y_train, batch_size=512, epochs=20, callbacks=callbacks_list, verbose=1, \n",
    "                    validation_data=(X_test, Y_test))"
   ]
  },
  {
   "cell_type": "code",
   "execution_count": null,
   "id": "ebaedcfe",
   "metadata": {},
   "outputs": [],
   "source": [
    "scores = model.evaluate(X_test, Y_test, verbose=1)\n",
    "print('Test loss:', scores[0])\n",
    "print('Test accuracy:', scores[1])"
   ]
  },
  {
   "cell_type": "code",
   "execution_count": null,
   "id": "58598723",
   "metadata": {},
   "outputs": [],
   "source": [
    "i = 3\n",
    "predict_array = model.predict(X_test[[i],:])\n",
    "\n",
    "# Index of the max value (the name of the class with the highest probability)\n",
    "prediction = np.argmax(predict_array)\n",
    "truth = np.argmax(Y_test[i])\n",
    "\n",
    "print(f\"Prediction: {prediction}, Truth: {truth}\")"
   ]
  }
 ],
 "metadata": {
  "kernelspec": {
   "display_name": "cs490_python_projects",
   "language": "python",
   "name": "cs490_python_projects"
  },
  "language_info": {
   "codemirror_mode": {
    "name": "ipython",
    "version": 3
   },
   "file_extension": ".py",
   "mimetype": "text/x-python",
   "name": "python",
   "nbconvert_exporter": "python",
   "pygments_lexer": "ipython3",
   "version": "3.9.7"
  }
 },
 "nbformat": 4,
 "nbformat_minor": 5
}
